{
 "cells": [
  {
   "cell_type": "code",
   "execution_count": 1,
   "id": "3415828a",
   "metadata": {},
   "outputs": [],
   "source": [
    "import ibm_db\n",
    "import ibm_db_sa\n",
    "import sqlalchemy\n",
    "\n",
    "%load_ext sql"
   ]
  },
  {
   "cell_type": "code",
   "execution_count": 2,
   "id": "14bc51ff",
   "metadata": {},
   "outputs": [],
   "source": [
    "%sql ibm_db_sa://xrz44897:bSx3hFO0KIQVe8rk@6667d8e9-9d4d-4ccb-ba32-21da3bb5aafc.c1ogj3sd0tgtu0lqde00.databases.appdomain.cloud:30376/BLUDB?security=SSL\n"
   ]
  },
  {
   "cell_type": "markdown",
   "id": "7b0911b7",
   "metadata": {},
   "source": [
    "Problem 1: Find the total number of crimes recorded in the CRIME table"
   ]
  },
  {
   "cell_type": "code",
   "execution_count": 3,
   "id": "f7361ed7",
   "metadata": {},
   "outputs": [
    {
     "name": "stdout",
     "output_type": "stream",
     "text": [
      " * ibm_db_sa://xrz44897:***@6667d8e9-9d4d-4ccb-ba32-21da3bb5aafc.c1ogj3sd0tgtu0lqde00.databases.appdomain.cloud:30376/BLUDB\n",
      "Done.\n"
     ]
    },
    {
     "data": {
      "text/html": [
       "<table>\n",
       "    <tr>\n",
       "        <th>1</th>\n",
       "    </tr>\n",
       "    <tr>\n",
       "        <td>533</td>\n",
       "    </tr>\n",
       "</table>"
      ],
      "text/plain": [
       "[(533,)]"
      ]
     },
     "execution_count": 3,
     "metadata": {},
     "output_type": "execute_result"
    }
   ],
   "source": [
    "%sql SELECT COUNT(*) FROM CHICAGO_CRIME_DATA;"
   ]
  },
  {
   "cell_type": "markdown",
   "id": "cae2d6a7",
   "metadata": {},
   "source": [
    "Problem 2: List community areas with per capita income less than 11000.\n",
    "\n"
   ]
  },
  {
   "cell_type": "code",
   "execution_count": 4,
   "id": "d9fab1a6",
   "metadata": {},
   "outputs": [
    {
     "name": "stdout",
     "output_type": "stream",
     "text": [
      " * ibm_db_sa://xrz44897:***@6667d8e9-9d4d-4ccb-ba32-21da3bb5aafc.c1ogj3sd0tgtu0lqde00.databases.appdomain.cloud:30376/BLUDB\n",
      "Done.\n"
     ]
    },
    {
     "data": {
      "text/html": [
       "<table>\n",
       "    <tr>\n",
       "        <th>community_area_name</th>\n",
       "        <th>per_capita_income</th>\n",
       "    </tr>\n",
       "    <tr>\n",
       "        <td>West Garfield Park</td>\n",
       "        <td>10934</td>\n",
       "    </tr>\n",
       "    <tr>\n",
       "        <td>South Lawndale</td>\n",
       "        <td>10402</td>\n",
       "    </tr>\n",
       "    <tr>\n",
       "        <td>Fuller Park</td>\n",
       "        <td>10432</td>\n",
       "    </tr>\n",
       "    <tr>\n",
       "        <td>Riverdale</td>\n",
       "        <td>8201</td>\n",
       "    </tr>\n",
       "</table>"
      ],
      "text/plain": [
       "[('West Garfield Park', 10934),\n",
       " ('South Lawndale', 10402),\n",
       " ('Fuller Park', 10432),\n",
       " ('Riverdale', 8201)]"
      ]
     },
     "execution_count": 4,
     "metadata": {},
     "output_type": "execute_result"
    }
   ],
   "source": [
    "%%sql SELECT community_area_name, per_capita_income\n",
    " from CENSUS_DATA where per_capita_income < 11000;"
   ]
  },
  {
   "cell_type": "markdown",
   "id": "934af321",
   "metadata": {},
   "source": [
    "Problem 3: List all case numbers for crimes involving minors?\n",
    "\n"
   ]
  },
  {
   "cell_type": "code",
   "execution_count": 6,
   "id": "69d26c07",
   "metadata": {},
   "outputs": [
    {
     "name": "stdout",
     "output_type": "stream",
     "text": [
      " * ibm_db_sa://xrz44897:***@6667d8e9-9d4d-4ccb-ba32-21da3bb5aafc.c1ogj3sd0tgtu0lqde00.databases.appdomain.cloud:30376/BLUDB\n",
      "Done.\n"
     ]
    },
    {
     "data": {
      "text/html": [
       "<table>\n",
       "    <tr>\n",
       "        <th>case_number</th>\n",
       "        <th>description</th>\n",
       "    </tr>\n",
       "    <tr>\n",
       "        <td>HL266884</td>\n",
       "        <td>SELL/GIVE/DEL LIQUOR TO MINOR</td>\n",
       "    </tr>\n",
       "    <tr>\n",
       "        <td>HK238408</td>\n",
       "        <td>ILLEGAL CONSUMPTION BY MINOR</td>\n",
       "    </tr>\n",
       "</table>"
      ],
      "text/plain": [
       "[('HL266884', 'SELL/GIVE/DEL LIQUOR TO MINOR'),\n",
       " ('HK238408', 'ILLEGAL CONSUMPTION BY MINOR')]"
      ]
     },
     "execution_count": 6,
     "metadata": {},
     "output_type": "execute_result"
    }
   ],
   "source": [
    "%%sql SELECT case_number,description FROM CHICAGO_CRIME_DATA \n",
    "where description LIKE '%MINOR%';"
   ]
  },
  {
   "cell_type": "markdown",
   "id": "2902a437",
   "metadata": {},
   "source": [
    "Problem 4: List all kidnapping crimes involving a child?(children are not considered minors for the purposes of crime analysis)\n",
    "\n"
   ]
  },
  {
   "cell_type": "code",
   "execution_count": 7,
   "id": "efd67aa5",
   "metadata": {},
   "outputs": [
    {
     "name": "stdout",
     "output_type": "stream",
     "text": [
      " * ibm_db_sa://xrz44897:***@6667d8e9-9d4d-4ccb-ba32-21da3bb5aafc.c1ogj3sd0tgtu0lqde00.databases.appdomain.cloud:30376/BLUDB\n",
      "Done.\n"
     ]
    },
    {
     "data": {
      "text/html": [
       "<table>\n",
       "    <tr>\n",
       "        <th>id</th>\n",
       "        <th>case_number</th>\n",
       "        <th>DATE</th>\n",
       "        <th>block</th>\n",
       "        <th>iucr</th>\n",
       "        <th>primary_type</th>\n",
       "        <th>description</th>\n",
       "        <th>location_description</th>\n",
       "        <th>arrest</th>\n",
       "        <th>domestic</th>\n",
       "        <th>beat</th>\n",
       "        <th>district</th>\n",
       "        <th>ward</th>\n",
       "        <th>community_area_number</th>\n",
       "        <th>fbicode</th>\n",
       "        <th>x_coordinate</th>\n",
       "        <th>y_coordinate</th>\n",
       "        <th>YEAR</th>\n",
       "        <th>latitude</th>\n",
       "        <th>longitude</th>\n",
       "        <th>location</th>\n",
       "    </tr>\n",
       "    <tr>\n",
       "        <td>5276766</td>\n",
       "        <td>HN144152</td>\n",
       "        <td>2007-01-26</td>\n",
       "        <td>050XX W VAN BUREN ST</td>\n",
       "        <td>1792</td>\n",
       "        <td>KIDNAPPING</td>\n",
       "        <td>CHILD ABDUCTION/STRANGER</td>\n",
       "        <td>STREET</td>\n",
       "        <td>FALSE</td>\n",
       "        <td>FALSE</td>\n",
       "        <td>1533</td>\n",
       "        <td>15</td>\n",
       "        <td>29</td>\n",
       "        <td>25</td>\n",
       "        <td>20</td>\n",
       "        <td>1143050</td>\n",
       "        <td>1897546</td>\n",
       "        <td>2007</td>\n",
       "        <td>41.87490841</td>\n",
       "        <td>-87.75024931</td>\n",
       "        <td>(41.874908413, -87.750249307)</td>\n",
       "    </tr>\n",
       "</table>"
      ],
      "text/plain": [
       "[(5276766, 'HN144152', datetime.date(2007, 1, 26), '050XX W VAN BUREN ST', '1792', 'KIDNAPPING', 'CHILD ABDUCTION/STRANGER', 'STREET', 'FALSE', 'FALSE', 1533, 15, 29, 25, '20', 1143050, 1897546, 2007, Decimal('41.87490841'), Decimal('-87.75024931'), '(41.874908413, -87.750249307)')]"
      ]
     },
     "execution_count": 7,
     "metadata": {},
     "output_type": "execute_result"
    }
   ],
   "source": [
    "%%sql SELECT * FROM CHICAGO_CRIME_DATA\n",
    "WHERE PRIMARY_TYPE = 'KIDNAPPING' AND description LIKE '%CHILD%';"
   ]
  },
  {
   "cell_type": "markdown",
   "id": "bde0c406",
   "metadata": {},
   "source": [
    "Problem 5: What kind of crimes were recorded at schools?\n",
    "\n"
   ]
  },
  {
   "cell_type": "code",
   "execution_count": 140,
   "id": "9a0e13a3",
   "metadata": {},
   "outputs": [
    {
     "name": "stdout",
     "output_type": "stream",
     "text": [
      " * ibm_db_sa://xrz44897:***@6667d8e9-9d4d-4ccb-ba32-21da3bb5aafc.c1ogj3sd0tgtu0lqde00.databases.appdomain.cloud:30376/BLUDB\n",
      "Done.\n"
     ]
    },
    {
     "data": {
      "text/html": [
       "<table>\n",
       "    <tr>\n",
       "        <th>primary_type</th>\n",
       "    </tr>\n",
       "    <tr>\n",
       "        <td>ASSAULT</td>\n",
       "    </tr>\n",
       "    <tr>\n",
       "        <td>BATTERY</td>\n",
       "    </tr>\n",
       "    <tr>\n",
       "        <td>CRIMINAL DAMAGE</td>\n",
       "    </tr>\n",
       "    <tr>\n",
       "        <td>CRIMINAL TRESPA</td>\n",
       "    </tr>\n",
       "    <tr>\n",
       "        <td>NARCOTICS</td>\n",
       "    </tr>\n",
       "    <tr>\n",
       "        <td>PUBLIC PEACE VI</td>\n",
       "    </tr>\n",
       "</table>"
      ],
      "text/plain": [
       "[('ASSAULT',),\n",
       " ('BATTERY',),\n",
       " ('CRIMINAL DAMAGE',),\n",
       " ('CRIMINAL TRESPA',),\n",
       " ('NARCOTICS',),\n",
       " ('PUBLIC PEACE VI',)]"
      ]
     },
     "execution_count": 140,
     "metadata": {},
     "output_type": "execute_result"
    }
   ],
   "source": [
    "%%sql SELECT DISTINCT(primary_type) \n",
    "FROM CHICAGO_CRIME_DATA \n",
    "WHERE location_description like '%SCHOOL%';"
   ]
  },
  {
   "cell_type": "markdown",
   "id": "44b6ff90",
   "metadata": {},
   "source": [
    "Problem 6: List the average safety score for all types of schools.\n",
    "\n"
   ]
  },
  {
   "cell_type": "code",
   "execution_count": 151,
   "id": "4071005c",
   "metadata": {},
   "outputs": [
    {
     "name": "stdout",
     "output_type": "stream",
     "text": [
      " * ibm_db_sa://xrz44897:***@6667d8e9-9d4d-4ccb-ba32-21da3bb5aafc.c1ogj3sd0tgtu0lqde00.databases.appdomain.cloud:30376/BLUDB\n",
      "Done.\n"
     ]
    },
    {
     "data": {
      "text/html": [
       "<table>\n",
       "    <tr>\n",
       "        <th>Elementary, Middle, or High School</th>\n",
       "        <th>2</th>\n",
       "    </tr>\n",
       "    <tr>\n",
       "        <td>ES</td>\n",
       "        <td>49</td>\n",
       "    </tr>\n",
       "    <tr>\n",
       "        <td>HS</td>\n",
       "        <td>49</td>\n",
       "    </tr>\n",
       "    <tr>\n",
       "        <td>MS</td>\n",
       "        <td>48</td>\n",
       "    </tr>\n",
       "</table>"
      ],
      "text/plain": [
       "[('ES', 49), ('HS', 49), ('MS', 48)]"
      ]
     },
     "execution_count": 151,
     "metadata": {},
     "output_type": "execute_result"
    }
   ],
   "source": [
    "%%sql SELECT \"Elementary, Middle, or High School\",avg(safety_score)\n",
    "FROM CHICAGO_PUBLIC_SCHOOLS\n",
    "group by \"Elementary, Middle, or High School\"; "
   ]
  },
  {
   "cell_type": "markdown",
   "id": "3f34adbe",
   "metadata": {},
   "source": [
    "Problem 7: List 5 community areas with highest % of households below poverty line.\n",
    "\n"
   ]
  },
  {
   "cell_type": "code",
   "execution_count": 11,
   "id": "6534ab1b",
   "metadata": {},
   "outputs": [
    {
     "name": "stdout",
     "output_type": "stream",
     "text": [
      " * ibm_db_sa://xrz44897:***@6667d8e9-9d4d-4ccb-ba32-21da3bb5aafc.c1ogj3sd0tgtu0lqde00.databases.appdomain.cloud:30376/BLUDB\n",
      "Done.\n"
     ]
    },
    {
     "data": {
      "text/html": [
       "<table>\n",
       "    <tr>\n",
       "        <th>community_area_name</th>\n",
       "        <th>percent_households_below_poverty</th>\n",
       "    </tr>\n",
       "    <tr>\n",
       "        <td>Riverdale</td>\n",
       "        <td>56.5</td>\n",
       "    </tr>\n",
       "    <tr>\n",
       "        <td>Fuller Park</td>\n",
       "        <td>51.2</td>\n",
       "    </tr>\n",
       "    <tr>\n",
       "        <td>Englewood</td>\n",
       "        <td>46.6</td>\n",
       "    </tr>\n",
       "    <tr>\n",
       "        <td>North Lawndale</td>\n",
       "        <td>43.1</td>\n",
       "    </tr>\n",
       "    <tr>\n",
       "        <td>East Garfield Park</td>\n",
       "        <td>42.4</td>\n",
       "    </tr>\n",
       "</table>"
      ],
      "text/plain": [
       "[('Riverdale', Decimal('56.5')),\n",
       " ('Fuller Park', Decimal('51.2')),\n",
       " ('Englewood', Decimal('46.6')),\n",
       " ('North Lawndale', Decimal('43.1')),\n",
       " ('East Garfield Park', Decimal('42.4'))]"
      ]
     },
     "execution_count": 11,
     "metadata": {},
     "output_type": "execute_result"
    }
   ],
   "source": [
    "%%sql SELECT community_area_name, percent_households_below_poverty \n",
    "FROM CENSUS_DATA \n",
    "ORDER BY percent_households_below_poverty DESC LIMIT 5;"
   ]
  },
  {
   "cell_type": "markdown",
   "id": "f0bd9eeb",
   "metadata": {},
   "source": [
    "Problem 8: Which community area(number) is most crime prone?\n"
   ]
  },
  {
   "cell_type": "code",
   "execution_count": 99,
   "id": "fbe1dbe5",
   "metadata": {},
   "outputs": [
    {
     "name": "stdout",
     "output_type": "stream",
     "text": [
      " * ibm_db_sa://xrz44897:***@6667d8e9-9d4d-4ccb-ba32-21da3bb5aafc.c1ogj3sd0tgtu0lqde00.databases.appdomain.cloud:30376/BLUDB\n",
      "Done.\n"
     ]
    },
    {
     "data": {
      "text/html": [
       "<table>\n",
       "    <tr>\n",
       "        <th>community_area_number</th>\n",
       "        <th>frequency</th>\n",
       "    </tr>\n",
       "    <tr>\n",
       "        <td>25</td>\n",
       "        <td>43</td>\n",
       "    </tr>\n",
       "</table>"
      ],
      "text/plain": [
       "[(25, 43)]"
      ]
     },
     "execution_count": 99,
     "metadata": {},
     "output_type": "execute_result"
    }
   ],
   "source": [
    "%%sql SELECT community_area_number , count(*) as frequency\n",
    "FROM CHICAGO_CRIME_DATA\n",
    "GROUP by community_area_number\n",
    "ORDER BY frequency desc \n",
    "limit 1\n",
    ";"
   ]
  },
  {
   "cell_type": "code",
   "execution_count": 93,
   "id": "9901daa2",
   "metadata": {},
   "outputs": [
    {
     "name": "stdout",
     "output_type": "stream",
     "text": [
      " * ibm_db_sa://xrz44897:***@6667d8e9-9d4d-4ccb-ba32-21da3bb5aafc.c1ogj3sd0tgtu0lqde00.databases.appdomain.cloud:30376/BLUDB\n",
      "Done.\n"
     ]
    },
    {
     "data": {
      "text/html": [
       "<table>\n",
       "    <tr>\n",
       "        <th>community_area_name</th>\n",
       "        <th>total</th>\n",
       "    </tr>\n",
       "    <tr>\n",
       "        <td>Austin</td>\n",
       "        <td>43</td>\n",
       "    </tr>\n",
       "</table>"
      ],
      "text/plain": [
       "[('Austin', 43)]"
      ]
     },
     "execution_count": 93,
     "metadata": {},
     "output_type": "execute_result"
    }
   ],
   "source": [
    "%%sql SELECT CENSUS_DATA.community_area_name, count(CHICAGO_CRIME_DATA.community_area_number) AS TOTAL \n",
    "FROM CHICAGO_CRIME_DATA\n",
    "LEFT JOIN CENSUS_DATA \n",
    "ON CENSUS_DATA.community_area_number = CHICAGO_CRIME_DATA.community_area_number \n",
    "group by community_area_name \n",
    "ORDER BY total desc\n",
    "LIMIT 1; "
   ]
  },
  {
   "cell_type": "markdown",
   "id": "9c9c89be",
   "metadata": {},
   "source": [
    "Problem 9: Use a sub-query to find the name of the community area with highest hardship index.\n",
    "\n"
   ]
  },
  {
   "cell_type": "code",
   "execution_count": 111,
   "id": "c60038a8",
   "metadata": {},
   "outputs": [
    {
     "name": "stdout",
     "output_type": "stream",
     "text": [
      " * ibm_db_sa://xrz44897:***@6667d8e9-9d4d-4ccb-ba32-21da3bb5aafc.c1ogj3sd0tgtu0lqde00.databases.appdomain.cloud:30376/BLUDB\n",
      "Done.\n"
     ]
    },
    {
     "data": {
      "text/html": [
       "<table>\n",
       "    <tr>\n",
       "        <th>community_area_name</th>\n",
       "    </tr>\n",
       "    <tr>\n",
       "        <td>Riverdale</td>\n",
       "    </tr>\n",
       "</table>"
      ],
      "text/plain": [
       "[('Riverdale',)]"
      ]
     },
     "execution_count": 111,
     "metadata": {},
     "output_type": "execute_result"
    }
   ],
   "source": [
    "%%sql select community_area_name from CENSUS_DATA\n",
    "where hardship_index =  (select max(hardship_index) from CENSUS_DATA);"
   ]
  },
  {
   "cell_type": "markdown",
   "id": "44bc086e",
   "metadata": {},
   "source": [
    "Problem 10: Use a sub-query to determine the Community Area Name with most number of crimes?\n",
    "\n"
   ]
  },
  {
   "cell_type": "code",
   "execution_count": 139,
   "id": "752f7880",
   "metadata": {},
   "outputs": [
    {
     "name": "stdout",
     "output_type": "stream",
     "text": [
      " * ibm_db_sa://xrz44897:***@6667d8e9-9d4d-4ccb-ba32-21da3bb5aafc.c1ogj3sd0tgtu0lqde00.databases.appdomain.cloud:30376/BLUDB\n",
      "Done.\n"
     ]
    },
    {
     "data": {
      "text/html": [
       "<table>\n",
       "    <tr>\n",
       "        <th>community_area_name</th>\n",
       "    </tr>\n",
       "    <tr>\n",
       "        <td>Austin</td>\n",
       "    </tr>\n",
       "</table>"
      ],
      "text/plain": [
       "[('Austin',)]"
      ]
     },
     "execution_count": 139,
     "metadata": {},
     "output_type": "execute_result"
    }
   ],
   "source": [
    "%%sql select community_area_name \n",
    "from CENSUS_DATA \n",
    "where community_area_number = ( select community_area_number \n",
    "                               from CHICAGO_CRIME_DATA \n",
    "                               group by community_area_number \n",
    "                               order by count(*)  desc limit 1);"
   ]
  }
 ],
 "metadata": {
  "kernelspec": {
   "display_name": "Python 3 (ipykernel)",
   "language": "python",
   "name": "python3"
  },
  "language_info": {
   "codemirror_mode": {
    "name": "ipython",
    "version": 3
   },
   "file_extension": ".py",
   "mimetype": "text/x-python",
   "name": "python",
   "nbconvert_exporter": "python",
   "pygments_lexer": "ipython3",
   "version": "3.8.10"
  }
 },
 "nbformat": 4,
 "nbformat_minor": 5
}
